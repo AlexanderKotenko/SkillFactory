{
 "cells": [
  {
   "cell_type": "markdown",
   "metadata": {},
   "source": [
    "# Module_0. Проект: игра \"Угадай число!\""
   ]
  },
  {
   "cell_type": "markdown",
   "metadata": {},
   "source": [
    "Предложенный автором модуля алгоритм поиска случайного числа в диапазоне от 1 до 100 можно значительно оптимизировать при помощи метода дихотомии (деления отрезка пополам) - одного из методов вычислительной математики."
   ]
  },
  {
   "cell_type": "markdown",
   "metadata": {},
   "source": [
    "В качестве источника информации могу порекомендовать книгу моего лектора и семинариста по данному предмету ( МФТИ, ФУПМ, 1994 - 1995 гг.) \"Добыть\" её можно, например, по ссылке: "
   ]
  },
  {
   "cell_type": "markdown",
   "metadata": {},
   "source": [
    "[В.С. Рябенький, Введение в вычислительную математику.](https://obuchalka.org/2016052589454/vvedenie-v-vichislitelnuu-matematiku-ryabenkii-v-s-2008.html)"
   ]
  },
  {
   "cell_type": "markdown",
   "metadata": {},
   "source": [
    "## Суть метода заключается в следующем:"
   ]
  },
  {
   "cell_type": "markdown",
   "metadata": {},
   "source": [
    "<span style=\"color:red\"> На первом шаге в качестве предполагаемого кандидата выступает половина отрезка, на котором было сгенерировано случайное число. Если предположение больше искомого, то на следующем шаге поиск осуществляется на отрезке с началом, равным началу отрезка на предыдущем шаге, и концом, равным предположению. Если же предположение меньше искомого, то поиск на следующем шаге будет осуществляться на отрезке, началом которого является предположение, а концом - конец предыдущего шага. Предположением на следующем шаге будет выступать середина уже нового, укороченного, отрезка. С каждым шагом алгоритм будет всё ближе приближаться к искомому числу. <span>"
   ]
  },
  {
   "cell_type": "markdown",
   "metadata": {},
   "source": [
    "Ниже приведена программа, которая работает по указанному алгоритму, а также проверяется, за какое в среднем количество шагов он ищет ответ для 1000 случайных чисел (варианты алгоритмов, предложенных автором модуля, я здесь повторять не стал; их можно найти в одном из файлов в репозитории):"
   ]
  },
  {
   "cell_type": "code",
   "execution_count": 6,
   "metadata": {},
   "outputs": [
    {
     "name": "stdout",
     "output_type": "stream",
     "text": [
      "Ваш алгоритм угадывает число в среднем за 5 попыток\n"
     ]
    },
    {
     "data": {
      "text/plain": [
       "5"
      ]
     },
     "execution_count": 6,
     "metadata": {},
     "output_type": "execute_result"
    }
   ],
   "source": [
    "import numpy as np\n",
    "\n",
    "\n",
    "def game_core_v3(number):\n",
    "    \n",
    "    '''МОЙ ВАРИАНТ: угадываем методом дихотомии (деления отрезка пополам):\n",
    "    в качестве очередного предположения выступает число, равное половине разницы\n",
    "    между предыдущим и последующим. Алгоритм угадывает не более чем за 7 шагов\n",
    "    (для случая, если длина отрезка равна 100). Может быть модифицирован вместе\n",
    "    с генератором случайных чисел для отрезка произвольной длины.'''\n",
    "    \n",
    "    count = 0 # счётчик попыток\n",
    "    a = 1 # нижняя граница отрезка; первоначальное значение = 1\n",
    "    b = 100 # верхняя граница отрезка; первоначальное значение = 100\n",
    "    predict = 0 # инициализация переменной predict - текущего предположения\n",
    "    predict_old = 0 # инициализация переменной predict_old - предыдущего предположения\n",
    "    \n",
    "    '''далее - цикл, осуществляющий дихотомию'''\n",
    "    while number != predict:\n",
    "        '''очередное предположение по формуле дихотомии'''\n",
    "        predict = a + (b - a + 1) // 2\n",
    "        '''необходимо делать проверку при приближении к концам исходного отрезка -\n",
    "        - около 1 и 100: если очередное предположение совпадает с предыдущим,\n",
    "        то искомое значение равно конецу отрезка (1 или 100)'''\n",
    "        if (predict, predict_old) == (2, 2):\n",
    "            predict = 1\n",
    "            break\n",
    "        elif (predict, predict_old) == (99,99):\n",
    "            predict = 100\n",
    "            break \n",
    "        # если нет - то находимся пока в процессе поиска внутри очередного отрезка [a; b]\n",
    "        elif number > predict:\n",
    "            a = predict\n",
    "            b = max(b, predict_old)\n",
    "        elif number < predict:\n",
    "            b = predict\n",
    "            a = min(a, predict_old)\n",
    "        predict_old = predict\n",
    "        count += 1\n",
    "    \n",
    "    return(count)\n",
    "\n",
    "        \n",
    "def score_game(game_core):\n",
    "    '''Это - функция автора модуля, в неё изменения не вносилось.'''\n",
    "    '''Запускаем игру 1000 раз, чтобы узнать, как быстро игра угадывает число'''\n",
    "    count_ls = []\n",
    "    np.random.seed(1)  # фиксируем RANDOM SEED, чтобы ваш эксперимент был воспроизводим!\n",
    "    random_array = np.random.randint(1,101, size=(1000))\n",
    "    for number in random_array:\n",
    "        count_ls.append(game_core(number))\n",
    "    score = int(np.mean(count_ls))\n",
    "    print(f\"Ваш алгоритм угадывает число в среднем за {score} попыток\")\n",
    "    return(score)\n",
    "\n",
    "\n",
    "score_game(game_core_v3)"
   ]
  },
  {
   "cell_type": "markdown",
   "metadata": {},
   "source": [
    "Несмотря на то, что программа выдаёт ответ, что алгоритм угадывает число в среднем за 5 попыток, необходимо иметь ввиду, что гарантированное число попыток - всё-таки 7."
   ]
  },
  {
   "cell_type": "markdown",
   "metadata": {},
   "source": [
    "<span style=\"color:red\"> <b> ВНИМАНИЕ! </b> <span>"
   ]
  },
  {
   "cell_type": "markdown",
   "metadata": {},
   "source": [
    "<span style=\"color:blue\"> Предложенный алгоритм может быть усовершенствован для случая, когда верхняя и нижняя границы числового отрезка, в котором генерируются случайные числа - задаются пользователем. Обозначим их соответственно a и b. <span>"
   ]
  },
  {
   "cell_type": "markdown",
   "metadata": {},
   "source": [
    "В этом случае код программы примет вид:"
   ]
  },
  {
   "cell_type": "code",
   "execution_count": 7,
   "metadata": {},
   "outputs": [
    {
     "name": "stdout",
     "output_type": "stream",
     "text": [
      "Задайте нижнюю границу отрезка: 1\n",
      "Задайте верхнюю границу отрезка: 100\n",
      "Ваш алгоритм угадывает число в среднем за 5 попыток\n"
     ]
    },
    {
     "data": {
      "text/plain": [
       "5"
      ]
     },
     "execution_count": 7,
     "metadata": {},
     "output_type": "execute_result"
    }
   ],
   "source": [
    "import numpy as np\n",
    "\n",
    "\n",
    "def game_core_v3(number, a, b):\n",
    "    \n",
    "    '''описание даётся только к новым переменным'''\n",
    "    count = 0\n",
    "    a_in = a # внутренняя переменная функции для нижней границы отрезка\n",
    "    b_in = b # внутренняя переменная функции для верхней границы отрезка\n",
    "    predict = 0 \n",
    "    predict_old = 0 \n",
    "    \n",
    "    while number != predict:\n",
    "        predict = a_in + (b_in - a_in + 1) // 2\n",
    "        if (predict, predict_old) == (a + 1, a + 1):\n",
    "            predict = a\n",
    "            break\n",
    "        elif (predict, predict_old) == (b - 1, b - 1):\n",
    "            predict = b\n",
    "            break  \n",
    "        elif number > predict:\n",
    "            a_in = predict\n",
    "            b_in = max(b_in, predict_old)\n",
    "        elif number < predict:\n",
    "            b_in = predict\n",
    "            a_in = min(a_in, predict_old)\n",
    "        predict_old = predict\n",
    "        count += 1\n",
    "    return(count)\n",
    "\n",
    "        \n",
    "def score_game():\n",
    "    '''Запускаем игру 1000 раз, чтобы узнать, как быстро игра угадывает число'''\n",
    "    a = int(input('Задайте нижнюю границу отрезка: '))\n",
    "    b = int(input('Задайте верхнюю границу отрезка: '))\n",
    "    count_ls = []\n",
    "    np.random.seed(1)\n",
    "    random_array = np.random.randint(a, b + 1, size=(1000)) # случайное число генерируется на заданной отрезке\n",
    "    for number in random_array:\n",
    "        count_ls.append(game_core_v3(number, a, b))\n",
    "    score = int(np.mean(count_ls))\n",
    "    print(f\"Ваш алгоритм угадывает число в среднем за {score} попыток\")\n",
    "    return(score)\n",
    "\n",
    "score_game()"
   ]
  },
  {
   "cell_type": "markdown",
   "metadata": {},
   "source": [
    "Для произвольного отрезка \\[a, b\\] количество гарантированных попыток равно <b><span style=\"color:blue\"> int(math.log2(b - a)) + 1 <span> </b>."
   ]
  },
  {
   "cell_type": "markdown",
   "metadata": {},
   "source": [
    " = = = = = = = = = = = = = = = = = = = = = = = = = = = = = = = = = = = = = = = = = = = = = = =  "
   ]
  },
  {
   "cell_type": "markdown",
   "metadata": {},
   "source": [
    "_В репозитории находятся следующие файлы:_"
   ]
  },
  {
   "cell_type": "markdown",
   "metadata": {},
   "source": [
    "_Module_0_only_my_variant.py - мой алгоритм поиска случайного числа от 1 до 100_"
   ]
  },
  {
   "cell_type": "markdown",
   "metadata": {},
   "source": [
    "_Module_0_all_variants.py - включает не только мой алгоритмы, но и алгоритмы автора модуля_"
   ]
  },
  {
   "cell_type": "markdown",
   "metadata": {},
   "source": [
    "_Module_0_advanced_variant.py - мой алгоритм поиска случайного числа от a до b_"
   ]
  },
  {
   "cell_type": "code",
   "execution_count": null,
   "metadata": {},
   "outputs": [],
   "source": []
  }
 ],
 "metadata": {
  "kernelspec": {
   "display_name": "Python 3",
   "language": "python",
   "name": "python3"
  },
  "language_info": {
   "codemirror_mode": {
    "name": "ipython",
    "version": 3
   },
   "file_extension": ".py",
   "mimetype": "text/x-python",
   "name": "python",
   "nbconvert_exporter": "python",
   "pygments_lexer": "ipython3",
   "version": "3.8.3"
  }
 },
 "nbformat": 4,
 "nbformat_minor": 4
}
